{
 "cells": [
  {
   "cell_type": "code",
   "execution_count": 1,
   "metadata": {},
   "outputs": [
    {
     "name": "stderr",
     "output_type": "stream",
     "text": [
      "C:\\Users\\gaura\\anaconda3\\lib\\site-packages\\pandas\\core\\frame.py:3990: SettingWithCopyWarning: \n",
      "A value is trying to be set on a copy of a slice from a DataFrame\n",
      "\n",
      "See the caveats in the documentation: https://pandas.pydata.org/pandas-docs/stable/user_guide/indexing.html#returning-a-view-versus-a-copy\n",
      "  return super().drop(\n"
     ]
    }
   ],
   "source": [
    "import pandas as pd\n",
    "\n",
    "ds=pd.read_csv('titanic_train.csv')\n",
    "\n",
    "y=ds['Survived']\n",
    "X=ds[['Pclass','Sex', 'Age', 'SibSp','Parch','Cabin', 'Embarked']]\n",
    "\n",
    "X.drop('Cabin',axis=1,inplace=True)\n",
    "\n",
    "def give_age(temp):\n",
    "    age=temp[0]\n",
    "    pclass=temp[1]\n",
    "    if pd.isnull(age):\n",
    "        if pclass==1:\n",
    "            return 39\n",
    "        elif pclass==2:\n",
    "            return 30\n",
    "        elif pclass==3:\n",
    "            return 25\n",
    "    else:\n",
    "        return age\n",
    "\n",
    "Age = X[['Age','Pclass']].apply(give_age,axis=1)\n",
    "\n",
    "X=pd.concat([X[['Pclass', 'Sex', 'SibSp', 'Parch', 'Embarked']],Age],axis=1)\n",
    "\n",
    "Pclass=pd.get_dummies(X['Pclass'],drop_first=True)\n",
    "Sex=pd.get_dummies(X['Sex'],drop_first=True)\n",
    "Embarked=pd.get_dummies(X['Embarked'],drop_first=True)\n",
    "\n",
    "X=pd.concat([X['SibSp'],X['Parch'],X[0],Pclass,Sex,Embarked],axis=1)"
   ]
  },
  {
   "cell_type": "code",
   "execution_count": 2,
   "metadata": {},
   "outputs": [],
   "source": [
    "from sklearn.model_selection import train_test_split\n",
    "X_train, X_test, y_train, y_test = train_test_split(X, y, test_size=0.20, random_state=42)"
   ]
  },
  {
   "cell_type": "code",
   "execution_count": 3,
   "metadata": {},
   "outputs": [],
   "source": [
    "from sklearn.linear_model import LogisticRegression\n",
    "mind=LogisticRegression()\n",
    "mind.fit(X_train,y_train)\n",
    "y_pred=mind.predict(X_test)"
   ]
  },
  {
   "cell_type": "code",
   "execution_count": 4,
   "metadata": {},
   "outputs": [
    {
     "data": {
      "text/plain": [
       "array([[92, 13],\n",
       "       [20, 54]], dtype=int64)"
      ]
     },
     "execution_count": 4,
     "metadata": {},
     "output_type": "execute_result"
    }
   ],
   "source": [
    "from sklearn.metrics import confusion_matrix\n",
    "confusion_matrix(y_test,y_pred)"
   ]
  },
  {
   "cell_type": "code",
   "execution_count": 5,
   "metadata": {},
   "outputs": [
    {
     "data": {
      "text/plain": [
       "['Survival_pred.pk1']"
      ]
     },
     "execution_count": 5,
     "metadata": {},
     "output_type": "execute_result"
    }
   ],
   "source": [
    "import joblib as jl\n",
    "jl.dump(mind,'Survival_pred.pk1')"
   ]
  }
 ],
 "metadata": {
  "kernelspec": {
   "display_name": "Python 3",
   "language": "python",
   "name": "python3"
  },
  "language_info": {
   "codemirror_mode": {
    "name": "ipython",
    "version": 3
   },
   "file_extension": ".py",
   "mimetype": "text/x-python",
   "name": "python",
   "nbconvert_exporter": "python",
   "pygments_lexer": "ipython3",
   "version": "3.8.3"
  }
 },
 "nbformat": 4,
 "nbformat_minor": 4
}
